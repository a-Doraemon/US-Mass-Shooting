{
 "cells": [
  {
   "cell_type": "code",
   "execution_count": 63,
   "metadata": {},
   "outputs": [
    {
     "name": "stdout",
     "output_type": "stream",
     "text": [
      "   S#                                 Title            Location       Date  \\\n",
      "0   1         Las Vegas Strip mass shooting       Las Vegas, NV  10/1/2017   \n",
      "1   2            San Francisco UPS shooting   San Francisco, CA  6/14/2017   \n",
      "2   3     Pennsylvania supermarket shooting     Tunkhannock, PA   6/7/2017   \n",
      "3   4  Florida awning manufacturer shooting    Orlando, Florida   6/5/2017   \n",
      "4   5      Rural Ohio nursing home shooting  Kirkersville, Ohio  5/12/2017   \n",
      "\n",
      "                                             Summary  Fatalities  Injured  \\\n",
      "0                                                NaN          58      527   \n",
      "1  Jimmy Lam, 38, fatally shot three coworkers an...           3        2   \n",
      "2  Randy Stair, a 24-year-old worker at Weis groc...           3        0   \n",
      "3  John Robert Neumann, Jr., 45, a former employe...           5        0   \n",
      "4  Thomas Hartless, 43, shot and killed a former ...           3        0   \n",
      "\n",
      "   Total victims Mental Health Issues   Race Gender   Latitude   Longitude  \n",
      "0            585              Unclear  White      M  36.181271 -115.134132  \n",
      "1              5                  Yes  Asian      M        NaN         NaN  \n",
      "2              3              Unclear  White      M        NaN         NaN  \n",
      "3              5              Unclear    NaN      M        NaN         NaN  \n",
      "4              3                  Yes  White      M        NaN         NaN  \n"
     ]
    }
   ],
   "source": [
    "import pandas as pd\n",
    "us_mass_shooting=pd.read_csv('E:/file_of_python/US_Mass_Shootings/Mass Shootings Dataset Ver 2.csv',encoding='latin-1')\n",
    "print(us_mass_shooting.head())"
   ]
  },
  {
   "cell_type": "code",
   "execution_count": 64,
   "metadata": {
    "collapsed": true
   },
   "outputs": [],
   "source": [
    "us_mass_shooting=us_mass_shooting.drop(['Title','Summary'],axis=1)"
   ]
  },
  {
   "cell_type": "code",
   "execution_count": 65,
   "metadata": {},
   "outputs": [
    {
     "name": "stdout",
     "output_type": "stream",
     "text": [
      "   S#            Location       Date  Fatalities  Injured  Total victims  \\\n",
      "0   1       Las Vegas, NV  10/1/2017          58      527            585   \n",
      "1   2   San Francisco, CA  6/14/2017           3        2              5   \n",
      "2   3     Tunkhannock, PA   6/7/2017           3        0              3   \n",
      "3   4    Orlando, Florida   6/5/2017           5        0              5   \n",
      "4   5  Kirkersville, Ohio  5/12/2017           3        0              3   \n",
      "\n",
      "  Mental Health Issues   Race Gender   Latitude   Longitude  \n",
      "0              Unclear  White      M  36.181271 -115.134132  \n",
      "1                  Yes  Asian      M        NaN         NaN  \n",
      "2              Unclear  White      M        NaN         NaN  \n",
      "3              Unclear    NaN      M        NaN         NaN  \n",
      "4                  Yes  White      M        NaN         NaN  \n"
     ]
    }
   ],
   "source": [
    "print(us_mass_shooting.head())"
   ]
  },
  {
   "cell_type": "code",
   "execution_count": 66,
   "metadata": {},
   "outputs": [
    {
     "name": "stdout",
     "output_type": "stream",
     "text": [
      "['Unclear' 'Yes' 'Unknown' 'No' 'unknown']\n"
     ]
    }
   ],
   "source": [
    "print(us_mass_shooting['Mental Health Issues'].unique())"
   ]
  },
  {
   "cell_type": "code",
   "execution_count": 67,
   "metadata": {
    "collapsed": true
   },
   "outputs": [],
   "source": [
    "import numpy as np\n",
    "us_mass_shooting['Mental Health Issues']=us_mass_shooting['Mental Health Issues'].apply(lambda x: 'Unknown' if x=='unknown' else x)\n",
    "us_mass_shooting['Mental Health Issues']=us_mass_shooting['Mental Health Issues'].apply(lambda x: 'Unknown' if x=='Unclear' else x)\n",
    "us_mass_shooting['Mental Health Issues']=us_mass_shooting['Mental Health Issues'].apply(lambda x: np.nan if x=='Unknown' else x)"
   ]
  },
  {
   "cell_type": "code",
   "execution_count": 68,
   "metadata": {},
   "outputs": [
    {
     "name": "stdout",
     "output_type": "stream",
     "text": [
      "['White' 'Asian' nan 'Black' 'Latino' 'Other' 'Unknown'\n",
      " 'Black American or African American' 'White American or European American'\n",
      " 'Asian American' 'Some other race' 'Two or more races'\n",
      " 'Black American or African American/Unknown'\n",
      " 'White American or European American/Some other Race'\n",
      " 'Native American or Alaska Native' 'white' 'black'\n",
      " 'Asian American/Some other race']\n"
     ]
    }
   ],
   "source": [
    "print(us_mass_shooting['Race'].unique())"
   ]
  },
  {
   "cell_type": "code",
   "execution_count": 69,
   "metadata": {},
   "outputs": [
    {
     "name": "stdout",
     "output_type": "stream",
     "text": [
      "['White' 'Asian' nan 'Black' 'Latino' 'Other' 'Two or more races'\n",
      " 'Native American']\n"
     ]
    }
   ],
   "source": [
    "import numpy as np\n",
    "us_mass_shooting['Race']=us_mass_shooting['Race'].apply(lambda x: 'White' if x=='white' else x)\n",
    "us_mass_shooting['Race']=us_mass_shooting['Race'].apply(lambda x: 'Black' if x=='black' else x)\n",
    "us_mass_shooting['Race']=us_mass_shooting['Race'].apply(lambda x: 'Asian' if x=='Asian American' else x)\n",
    "us_mass_shooting['Race']=us_mass_shooting['Race'].apply(lambda x: 'Other' if x== 'Some other race' else x)\n",
    "us_mass_shooting['Race']=us_mass_shooting['Race'].apply(lambda x: 'White' if x== 'White American or European American' else x)\n",
    "us_mass_shooting['Race']=us_mass_shooting['Race'].apply(lambda x: 'Black' if x== 'Black American or African American' else x)\n",
    "us_mass_shooting['Race']=us_mass_shooting['Race'].apply(lambda x: 'Native American' if x== 'Native American or Alaska Native' else x)\n",
    "us_mass_shooting['Race']=us_mass_shooting['Race'].apply(lambda x: 'Unknown' if x== 'Black American or African American/Unknown' else x)\n",
    "us_mass_shooting['Race']=us_mass_shooting['Race'].apply(lambda x: 'Unknown' if x== 'White American or European American/Some other Race' else x)\n",
    "us_mass_shooting['Race']=us_mass_shooting['Race'].apply(lambda x: 'Unknown' if x== 'Asian American/Some other race' else x)\n",
    "us_mass_shooting['Race']=us_mass_shooting['Race'].apply(lambda x: np.nan if x== 'Unknown' else x)\n",
    "print(us_mass_shooting['Race'].unique())"
   ]
  },
  {
   "cell_type": "code",
   "execution_count": 70,
   "metadata": {},
   "outputs": [
    {
     "name": "stdout",
     "output_type": "stream",
     "text": [
      "   S#            Location       Date  Fatalities  Injured  Total victims  \\\n",
      "0   1       Las Vegas, NV  10/1/2017          58      527            585   \n",
      "1   2   San Francisco, CA  6/14/2017           3        2              5   \n",
      "2   3     Tunkhannock, PA   6/7/2017           3        0              3   \n",
      "3   4    Orlando, Florida   6/5/2017           5        0              5   \n",
      "4   5  Kirkersville, Ohio  5/12/2017           3        0              3   \n",
      "\n",
      "  Mental Health Issues   Race Gender   Latitude   Longitude           city  \\\n",
      "0                  NaN  White      M  36.181271 -115.134132      Las Vegas   \n",
      "1                  Yes  Asian      M        NaN         NaN  San Francisco   \n",
      "2                  NaN  White      M        NaN         NaN    Tunkhannock   \n",
      "3                  NaN    NaN      M        NaN         NaN        Orlando   \n",
      "4                  Yes  White      M        NaN         NaN   Kirkersville   \n",
      "\n",
      "      state  \n",
      "0        NV  \n",
      "1        CA  \n",
      "2        PA  \n",
      "3   Florida  \n",
      "4      Ohio  \n"
     ]
    }
   ],
   "source": [
    "us_mass_shooting['Location']=us_mass_shooting['Location'].astype('str')\n",
    "us_mass_shooting['city']=us_mass_shooting['Location'].apply(lambda x: x.split(',')[0] if ',' in x else np.nan)\n",
    "us_mass_shooting['state']=us_mass_shooting['Location'].apply(lambda x: x.split(',')[1] if ',' in x else np.nan)\n",
    "print(us_mass_shooting.head())"
   ]
  },
  {
   "cell_type": "code",
   "execution_count": 71,
   "metadata": {},
   "outputs": [
    {
     "name": "stdout",
     "output_type": "stream",
     "text": [
      "['M' 'Unknown' 'Male' 'M/F' 'Male/Female' 'Female']\n"
     ]
    }
   ],
   "source": [
    "print(us_mass_shooting['Gender'].unique())"
   ]
  },
  {
   "cell_type": "code",
   "execution_count": 72,
   "metadata": {},
   "outputs": [
    {
     "name": "stdout",
     "output_type": "stream",
     "text": [
      "['Male' nan 'Female']\n"
     ]
    }
   ],
   "source": [
    "us_mass_shooting['Gender']=us_mass_shooting['Gender'].apply(lambda x: 'Male' if x=='M' else x)\n",
    "us_mass_shooting['Gender']=us_mass_shooting['Gender'].apply(lambda x: np.nan if x=='Unknown' else x)\n",
    "us_mass_shooting['Gender']=us_mass_shooting['Gender'].apply(lambda x: np.nan if x=='M/F' else x)\n",
    "us_mass_shooting['Gender']=us_mass_shooting['Gender'].apply(lambda x: np.nan if x=='Male/Female' else x)\n",
    "print(us_mass_shooting['Gender'].unique())"
   ]
  },
  {
   "cell_type": "code",
   "execution_count": 73,
   "metadata": {
    "collapsed": true
   },
   "outputs": [],
   "source": [
    "us_mass_shooting.to_csv('E:/file_of_python/US_Mass_Shootings/Mass Shootings Dataset(after cleaning).csv',index=None,encoding='utf_8')"
   ]
  },
  {
   "cell_type": "code",
   "execution_count": null,
   "metadata": {
    "collapsed": true
   },
   "outputs": [],
   "source": [
    "#以为到这里就可以直接使用Tableau了，然而，将数据读入Tableau之后，发现了字段‘state’竟然包含了城市的数据、发生地不在美国的数据，所以还需要进一步处理。"
   ]
  },
  {
   "cell_type": "code",
   "execution_count": 74,
   "metadata": {},
   "outputs": [
    {
     "name": "stdout",
     "output_type": "stream",
     "text": [
      "   S#            Location       Date  Fatalities  Injured  Total victims  \\\n",
      "0   1       Las Vegas, NV  10/1/2017          58      527            585   \n",
      "1   2   San Francisco, CA  6/14/2017           3        2              5   \n",
      "2   3     Tunkhannock, PA   6/7/2017           3        0              3   \n",
      "3   4    Orlando, Florida   6/5/2017           5        0              5   \n",
      "4   5  Kirkersville, Ohio  5/12/2017           3        0              3   \n",
      "\n",
      "  Mental Health Issues   Race Gender   Latitude   Longitude           city  \\\n",
      "0                  NaN  White   Male  36.181271 -115.134132      Las Vegas   \n",
      "1                  Yes  Asian   Male        NaN         NaN  San Francisco   \n",
      "2                  NaN  White   Male        NaN         NaN    Tunkhannock   \n",
      "3                  NaN    NaN   Male        NaN         NaN        Orlando   \n",
      "4                  Yes  White   Male        NaN         NaN   Kirkersville   \n",
      "\n",
      "      state  \n",
      "0        NV  \n",
      "1        CA  \n",
      "2        PA  \n",
      "3   Florida  \n",
      "4      Ohio  \n"
     ]
    }
   ],
   "source": [
    "print(us_mass_shooting.head())"
   ]
  },
  {
   "cell_type": "code",
   "execution_count": 75,
   "metadata": {},
   "outputs": [
    {
     "name": "stdout",
     "output_type": "stream",
     "text": [
      "[' NV' ' CA' ' PA' ' Florida' ' Ohio' ' California' ' WA' ' LA' ' Texas'\n",
      " ' Missouri' nan ' Virginia' ' North Carolina' ' Tennessee' ' Texas '\n",
      " ' Kentucky' ' Alabama' ' Pennsylvania' ' Kansas' ' Massachusetts'\n",
      " '  Virginia' ' Washington' ' Arizona' ' Michigan' ' Mississippi'\n",
      " ' Nebraska' ' Colorado' ' Minnesota' ' Georgia' ' Maine' ' Oregon'\n",
      " ' South Dakota' ' New York' ' Louisiana' ' Illinois' ' South Carolina'\n",
      " ' Wisconsin' ' Montana' ' New Jersey' ' Indiana' ' Oklahoma' ' New Mexico'\n",
      " ' Idaho' ' Souderton' ' West Virginia' ' Nevada' ' Albuquerque'\n",
      " ' Connecticut' ' Arkansas' ' Utah' ' Lancaster' ' Vermont' ' San Diego'\n",
      " ' Hawaii' ' Alaska' ' Wyoming' ' Iowa']\n"
     ]
    }
   ],
   "source": [
    "print(us_mass_shooting['state'].unique())"
   ]
  },
  {
   "cell_type": "code",
   "execution_count": 76,
   "metadata": {},
   "outputs": [
    {
     "name": "stdout",
     "output_type": "stream",
     "text": [
      "      S#                               Location       Date  Fatalities  \\\n",
      "221  222  Nickel Mines, Lancaster, Pennsylvania  10/2/2006           6   \n",
      "\n",
      "     Injured  Total victims Mental Health Issues   Race Gender   Latitude  \\\n",
      "221        5             10                  NaN  White   Male  40.042144   \n",
      "\n",
      "     Longitude          city       state  \n",
      "221 -76.301009  Nickel Mines   Lancaster  \n"
     ]
    }
   ],
   "source": [
    "print(us_mass_shooting[us_mass_shooting['state']==' Lancaster'])"
   ]
  },
  {
   "cell_type": "code",
   "execution_count": 77,
   "metadata": {
    "collapsed": true
   },
   "outputs": [],
   "source": [
    "us_mass_shooting=us_mass_shooting.drop(221)"
   ]
  },
  {
   "cell_type": "code",
   "execution_count": 78,
   "metadata": {},
   "outputs": [
    {
     "name": "stdout",
     "output_type": "stream",
     "text": [
      "Empty DataFrame\n",
      "Columns: [S#, Location, Date, Fatalities, Injured, Total victims, Mental Health Issues, Race, Gender, Latitude, Longitude, city, state]\n",
      "Index: []\n"
     ]
    }
   ],
   "source": [
    "print(us_mass_shooting[us_mass_shooting['state']==' Lancaster'])"
   ]
  },
  {
   "cell_type": "code",
   "execution_count": 81,
   "metadata": {
    "collapsed": true
   },
   "outputs": [],
   "source": [
    "us_mass_shooting['state']=us_mass_shooting['state'].apply(lambda x: 'California' if x==' San Diego' else x)"
   ]
  },
  {
   "cell_type": "code",
   "execution_count": 82,
   "metadata": {
    "collapsed": true
   },
   "outputs": [],
   "source": [
    "us_mass_shooting['state']=us_mass_shooting['state'].apply(lambda x: 'Pennsylvania' if x==' Souderton' else x)"
   ]
  },
  {
   "cell_type": "code",
   "execution_count": 84,
   "metadata": {
    "collapsed": true
   },
   "outputs": [],
   "source": [
    "us_mass_shooting['state']=us_mass_shooting['state'].apply(lambda x: 'NM' if x==' Albuquerque' else x)"
   ]
  },
  {
   "cell_type": "code",
   "execution_count": 85,
   "metadata": {
    "collapsed": true
   },
   "outputs": [],
   "source": [
    "us_mass_shooting.to_csv('E:/file_of_python/US_Mass_Shootings/Mass Shootings Dataset(after cleaning).csv',index=None,encoding='utf_8')"
   ]
  },
  {
   "cell_type": "code",
   "execution_count": 86,
   "metadata": {},
   "outputs": [
    {
     "name": "stdout",
     "output_type": "stream",
     "text": [
      "   S#            Location       Date  Fatalities  Injured  Total victims  \\\n",
      "0   1       Las Vegas, NV  10/1/2017          58      527            585   \n",
      "1   2   San Francisco, CA  6/14/2017           3        2              5   \n",
      "2   3     Tunkhannock, PA   6/7/2017           3        0              3   \n",
      "3   4    Orlando, Florida   6/5/2017           5        0              5   \n",
      "4   5  Kirkersville, Ohio  5/12/2017           3        0              3   \n",
      "\n",
      "  Mental Health Issues   Race Gender   Latitude   Longitude           city  \\\n",
      "0                  NaN  White   Male  36.181271 -115.134132      Las Vegas   \n",
      "1                  Yes  Asian   Male        NaN         NaN  San Francisco   \n",
      "2                  NaN  White   Male        NaN         NaN    Tunkhannock   \n",
      "3                  NaN    NaN   Male        NaN         NaN        Orlando   \n",
      "4                  Yes  White   Male        NaN         NaN   Kirkersville   \n",
      "\n",
      "      state  \n",
      "0        NV  \n",
      "1        CA  \n",
      "2        PA  \n",
      "3   Florida  \n",
      "4      Ohio  \n"
     ]
    }
   ],
   "source": [
    "print(us_mass_shooting.head())"
   ]
  },
  {
   "cell_type": "code",
   "execution_count": null,
   "metadata": {
    "collapsed": true
   },
   "outputs": [],
   "source": []
  }
 ],
 "metadata": {
  "kernelspec": {
   "display_name": "Python 3",
   "language": "python",
   "name": "python3"
  },
  "language_info": {
   "codemirror_mode": {
    "name": "ipython",
    "version": 3
   },
   "file_extension": ".py",
   "mimetype": "text/x-python",
   "name": "python",
   "nbconvert_exporter": "python",
   "pygments_lexer": "ipython3",
   "version": "3.6.2"
  }
 },
 "nbformat": 4,
 "nbformat_minor": 2
}
